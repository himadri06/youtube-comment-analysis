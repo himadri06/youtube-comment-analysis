{
 "cells": [
  {
   "cell_type": "code",
   "execution_count": 1,
   "metadata": {},
   "outputs": [],
   "source": [
    "import pandas as pd\n",
    "import numpy as np\n",
    "import mlflow"
   ]
  },
  {
   "cell_type": "code",
   "execution_count": 2,
   "metadata": {},
   "outputs": [
    {
     "data": {
      "text/html": [
       "<pre style=\"white-space:pre;overflow-x:auto;line-height:normal;font-family:Menlo,'DejaVu Sans Mono',consolas,'Courier New',monospace\">Accessing as himadri06\n",
       "</pre>\n"
      ],
      "text/plain": [
       "Accessing as himadri06\n"
      ]
     },
     "metadata": {},
     "output_type": "display_data"
    },
    {
     "data": {
      "text/html": [
       "<pre style=\"white-space:pre;overflow-x:auto;line-height:normal;font-family:Menlo,'DejaVu Sans Mono',consolas,'Courier New',monospace\">Initialized MLflow to track repo <span style=\"color: #008000; text-decoration-color: #008000\">\"himadri06/youtube-comment-analysis\"</span>\n",
       "</pre>\n"
      ],
      "text/plain": [
       "Initialized MLflow to track repo \u001b[32m\"himadri06/youtube-comment-analysis\"\u001b[0m\n"
      ]
     },
     "metadata": {},
     "output_type": "display_data"
    },
    {
     "data": {
      "text/html": [
       "<pre style=\"white-space:pre;overflow-x:auto;line-height:normal;font-family:Menlo,'DejaVu Sans Mono',consolas,'Courier New',monospace\">Repository himadri06/youtube-comment-analysis initialized!\n",
       "</pre>\n"
      ],
      "text/plain": [
       "Repository himadri06/youtube-comment-analysis initialized!\n"
      ]
     },
     "metadata": {},
     "output_type": "display_data"
    },
    {
     "name": "stderr",
     "output_type": "stream",
     "text": [
      "2024/12/15 12:46:27 INFO mlflow.tracking.fluent: Experiment with name 'Experiment 5-SVM with HPT' does not exist. Creating a new experiment.\n"
     ]
    },
    {
     "data": {
      "text/plain": [
       "<Experiment: artifact_location='mlflow-artifacts:/e3b981fcb6ec49ffb2c5234ffe158499', creation_time=1734246988485, experiment_id='6', last_update_time=1734246988485, lifecycle_stage='active', name='Experiment 5-SVM with HPT', tags={}>"
      ]
     },
     "execution_count": 2,
     "metadata": {},
     "output_type": "execute_result"
    }
   ],
   "source": [
    "import dagshub\n",
    "dagshub.init(repo_owner='himadri06', repo_name='youtube-comment-analysis', mlflow=True)\n",
    "\n",
    "import mlflow\n",
    "\n",
    "mlflow.set_tracking_uri(\"https://dagshub.com/himadri06/youtube-comment-analysis.mlflow\")\n",
    "mlflow.set_experiment(\"Experiment 5-SVM with HPT\")"
   ]
  },
  {
   "cell_type": "code",
   "execution_count": 3,
   "metadata": {},
   "outputs": [
    {
     "name": "stderr",
     "output_type": "stream",
     "text": [
      "c:\\Users\\User\\AppData\\Local\\Programs\\Python\\Python39\\lib\\site-packages\\tqdm\\auto.py:21: TqdmWarning: IProgress not found. Please update jupyter and ipywidgets. See https://ipywidgets.readthedocs.io/en/stable/user_install.html\n",
      "  from .autonotebook import tqdm as notebook_tqdm\n"
     ]
    }
   ],
   "source": [
    "import pandas as pd\n",
    "from sklearn.feature_extraction.text import TfidfVectorizer\n",
    "from sklearn.model_selection import train_test_split\n",
    "from sklearn.metrics import accuracy_score, classification_report\n",
    "from sklearn.svm import SVC\n",
    "from imblearn.over_sampling import SMOTE\n",
    "import mlflow\n",
    "import mlflow.sklearn\n",
    "import optuna"
   ]
  },
  {
   "cell_type": "code",
   "execution_count": 4,
   "metadata": {},
   "outputs": [
    {
     "data": {
      "text/plain": [
       "(36662, 2)"
      ]
     },
     "execution_count": 4,
     "metadata": {},
     "output_type": "execute_result"
    }
   ],
   "source": [
    "df = pd.read_csv(r'C:/Users/User/Desktop/MLOPs/youtube-comment/youtube-comment-analysis/data/processed/reddit_preprocessing.csv').dropna(subset=['clean_comment'])\n",
    "df.shape"
   ]
  },
  {
   "cell_type": "code",
   "execution_count": 5,
   "metadata": {},
   "outputs": [
    {
     "name": "stderr",
     "output_type": "stream",
     "text": [
      "c:\\Users\\User\\AppData\\Local\\Programs\\Python\\Python39\\lib\\site-packages\\sklearn\\base.py:474: FutureWarning: `BaseEstimator._validate_data` is deprecated in 1.6 and will be removed in 1.7. Use `sklearn.utils.validation.validate_data` instead. This function becomes public and is part of the scikit-learn developer API.\n",
      "  warnings.warn(\n",
      "c:\\Users\\User\\AppData\\Local\\Programs\\Python\\Python39\\lib\\site-packages\\sklearn\\utils\\_tags.py:354: FutureWarning: The SMOTE or classes from which it inherits use `_get_tags` and `_more_tags`. Please define the `__sklearn_tags__` method, or inherit from `sklearn.base.BaseEstimator` and/or other appropriate mixins such as `sklearn.base.TransformerMixin`, `sklearn.base.ClassifierMixin`, `sklearn.base.RegressorMixin`, and `sklearn.base.OutlierMixin`. From scikit-learn 1.7, not defining `__sklearn_tags__` will raise an error.\n",
      "  warnings.warn(\n",
      "[I 2024-12-15 12:48:28,670] A new study created in memory with name: no-name-23a7e714-f7f2-4f5f-9a7a-db11558d7780\n",
      "[I 2024-12-15 12:57:06,187] Trial 0 finished with value: 0.399281335869795 and parameters: {'C': 0.002774669286916923, 'kernel': 'rbf'}. Best is trial 0 with value: 0.399281335869795.\n",
      "[I 2024-12-15 13:05:39,160] Trial 1 finished with value: 0.3628196998520397 and parameters: {'C': 0.00011169956971894585, 'kernel': 'poly'}. Best is trial 0 with value: 0.399281335869795.\n",
      "[I 2024-12-15 13:13:05,331] Trial 2 finished with value: 0.5902557598816318 and parameters: {'C': 0.036566664119510144, 'kernel': 'rbf'}. Best is trial 2 with value: 0.5902557598816318.\n",
      "[I 2024-12-15 13:22:00,108] Trial 3 finished with value: 0.3628196998520397 and parameters: {'C': 0.00025114244987447355, 'kernel': 'poly'}. Best is trial 2 with value: 0.5902557598816318.\n",
      "[I 2024-12-15 13:28:00,217] Trial 4 finished with value: 0.7185584443035299 and parameters: {'C': 0.08353844668342673, 'kernel': 'rbf'}. Best is trial 4 with value: 0.7185584443035299.\n",
      "[I 2024-12-15 13:35:45,302] Trial 5 finished with value: 0.776580004227436 and parameters: {'C': 7.939974902982726, 'kernel': 'linear'}. Best is trial 5 with value: 0.776580004227436.\n",
      "[I 2024-12-15 13:42:18,020] Trial 6 finished with value: 0.44831959416613826 and parameters: {'C': 0.00030488509227096194, 'kernel': 'linear'}. Best is trial 5 with value: 0.776580004227436.\n",
      "[I 2024-12-15 13:46:28,226] Trial 7 finished with value: 0.7600930035933207 and parameters: {'C': 0.4735372810672857, 'kernel': 'linear'}. Best is trial 5 with value: 0.776580004227436.\n",
      "[I 2024-12-15 14:07:55,090] Trial 8 finished with value: 0.7035510462904249 and parameters: {'C': 1.1265433642507132, 'kernel': 'poly'}. Best is trial 5 with value: 0.776580004227436.\n",
      "[I 2024-12-15 14:12:19,416] Trial 9 finished with value: 0.7618896639188333 and parameters: {'C': 0.5943335605963015, 'kernel': 'linear'}. Best is trial 5 with value: 0.776580004227436.\n",
      "[I 2024-12-15 14:21:40,589] Trial 10 finished with value: 0.776580004227436 and parameters: {'C': 9.611685536421588, 'kernel': 'linear'}. Best is trial 5 with value: 0.776580004227436.\n",
      "[I 2024-12-15 14:29:34,906] Trial 11 finished with value: 0.7762629465229338 and parameters: {'C': 7.5145793101284255, 'kernel': 'linear'}. Best is trial 5 with value: 0.776580004227436.\n",
      "[I 2024-12-15 14:38:02,696] Trial 12 finished with value: 0.7764743183259353 and parameters: {'C': 9.438466914021564, 'kernel': 'linear'}. Best is trial 5 with value: 0.776580004227436.\n",
      "[I 2024-12-15 14:43:11,889] Trial 13 finished with value: 0.7729866835764109 and parameters: {'C': 2.326028218254613, 'kernel': 'linear'}. Best is trial 5 with value: 0.776580004227436.\n",
      "[I 2024-12-15 14:47:52,967] Trial 14 finished with value: 0.7452969773832171 and parameters: {'C': 0.15851822991120576, 'kernel': 'linear'}. Best is trial 5 with value: 0.776580004227436.\n",
      "[I 2024-12-15 14:54:31,253] Trial 15 finished with value: 0.5899387021771296 and parameters: {'C': 0.008733299785918126, 'kernel': 'linear'}. Best is trial 5 with value: 0.776580004227436.\n",
      "[I 2024-12-15 14:59:43,462] Trial 16 finished with value: 0.7742549143944197 and parameters: {'C': 3.0094981763744766, 'kernel': 'linear'}. Best is trial 5 with value: 0.776580004227436.\n",
      "[I 2024-12-15 15:03:39,922] Trial 17 finished with value: 0.7526949904882688 and parameters: {'C': 0.21795612958010907, 'kernel': 'linear'}. Best is trial 5 with value: 0.776580004227436.\n",
      "[I 2024-12-15 15:16:42,663] Trial 18 finished with value: 0.8328049038258296 and parameters: {'C': 2.592536097800958, 'kernel': 'rbf'}. Best is trial 18 with value: 0.8328049038258296.\n",
      "[I 2024-12-15 15:51:06,610] Trial 19 finished with value: 0.8233988585922638 and parameters: {'C': 1.3123707196957173, 'kernel': 'rbf'}. Best is trial 18 with value: 0.8328049038258296.\n",
      "[I 2024-12-15 15:58:19,113] Trial 20 finished with value: 0.42210949059395475 and parameters: {'C': 0.008776714524122996, 'kernel': 'rbf'}. Best is trial 18 with value: 0.8328049038258296.\n",
      "[I 2024-12-15 16:08:47,538] Trial 21 finished with value: 0.8250898330162756 and parameters: {'C': 1.489358210458394, 'kernel': 'rbf'}. Best is trial 18 with value: 0.8328049038258296.\n",
      "[I 2024-12-15 16:17:04,936] Trial 22 finished with value: 0.8272035510462904 and parameters: {'C': 1.743755655658073, 'kernel': 'rbf'}. Best is trial 18 with value: 0.8328049038258296.\n",
      "[I 2024-12-15 16:20:10,546] Trial 23 finished with value: 0.7882054533925175 and parameters: {'C': 0.2928929981766651, 'kernel': 'rbf'}. Best is trial 18 with value: 0.8328049038258296.\n",
      "[I 2024-12-15 16:28:09,851] Trial 24 finished with value: 0.832276474318326 and parameters: {'C': 2.7612515530458226, 'kernel': 'rbf'}. Best is trial 18 with value: 0.8328049038258296.\n",
      "[I 2024-12-15 16:37:43,401] Trial 25 finished with value: 0.8316423589093215 and parameters: {'C': 3.5871271133428233, 'kernel': 'rbf'}. Best is trial 18 with value: 0.8328049038258296.\n",
      "[I 2024-12-15 16:47:55,048] Trial 26 finished with value: 0.8321707884168252 and parameters: {'C': 3.830829415832371, 'kernel': 'rbf'}. Best is trial 18 with value: 0.8328049038258296.\n",
      "[I 2024-12-15 16:51:39,615] Trial 27 finished with value: 0.7256393997040794 and parameters: {'C': 0.09023567423821587, 'kernel': 'rbf'}. Best is trial 18 with value: 0.8328049038258296.\n",
      "[I 2024-12-15 16:56:39,811] Trial 28 finished with value: 0.8057493130416402 and parameters: {'C': 0.5674301548896973, 'kernel': 'rbf'}. Best is trial 18 with value: 0.8328049038258296.\n",
      "[I 2024-12-15 17:07:06,900] Trial 29 finished with value: 0.8321707884168252 and parameters: {'C': 3.8402804308223364, 'kernel': 'rbf'}. Best is trial 18 with value: 0.8328049038258296.\n",
      "2024/12/15 17:17:10 WARNING mlflow.models.model: Model logged without a signature and input example. Please set `input_example` parameter when logging the model to auto infer the model signature.\n",
      "2024/12/15 17:17:18 INFO mlflow.tracking._tracking_service.client: 🏃 View run SVM_SMOTE_TFIDF_Trigrams at: https://dagshub.com/himadri06/youtube-comment-analysis.mlflow/#/experiments/6/runs/0532c7c82d424e50b9d3242e45fd4df6.\n",
      "2024/12/15 17:17:18 INFO mlflow.tracking._tracking_service.client: 🧪 View experiment at: https://dagshub.com/himadri06/youtube-comment-analysis.mlflow/#/experiments/6.\n"
     ]
    }
   ],
   "source": [
    "# Step 1: (Optional) Remapping - skipped since not strictly needed for SVM\n",
    "\n",
    "# Step 2: Remove rows where the target labels (category) are NaN\n",
    "df = df.dropna(subset=['category'])\n",
    "\n",
    "# Step 3: TF-IDF vectorizer setup\n",
    "ngram_range = (1, 3)  # Trigram\n",
    "max_features = 1000  # Set max_features to 1000\n",
    "vectorizer = TfidfVectorizer(ngram_range=ngram_range, max_features=max_features)\n",
    "X = vectorizer.fit_transform(df['clean_comment'])\n",
    "y = df['category']\n",
    "\n",
    "# Step 4: Apply SMOTE to handle class imbalance\n",
    "smote = SMOTE(random_state=42)\n",
    "X_resampled, y_resampled = smote.fit_resample(X, y)\n",
    "\n",
    "# Step 5: Train-test split\n",
    "X_train, X_test, y_train, y_test = train_test_split(X_resampled, y_resampled, test_size=0.2, random_state=42, stratify=y_resampled)\n",
    "\n",
    "# Function to log results in MLflow\n",
    "def log_mlflow(model_name, model, X_train, X_test, y_train, y_test):\n",
    "    with mlflow.start_run():\n",
    "        # Log model type\n",
    "        mlflow.set_tag(\"mlflow.runName\", f\"{model_name}_SMOTE_TFIDF_Trigrams\")\n",
    "        mlflow.set_tag(\"experiment_type\", \"algorithm_comparison\")\n",
    "\n",
    "        # Log algorithm name as a parameter\n",
    "        mlflow.log_param(\"algo_name\", model_name)\n",
    "\n",
    "        # Train model\n",
    "        model.fit(X_train, y_train)\n",
    "        y_pred = model.predict(X_test)\n",
    "\n",
    "        # Log accuracy\n",
    "        accuracy = accuracy_score(y_test, y_pred)\n",
    "        mlflow.log_metric(\"accuracy\", accuracy)\n",
    "\n",
    "        # Log classification report\n",
    "        classification_rep = classification_report(y_test, y_pred, output_dict=True)\n",
    "        for label, metrics in classification_rep.items():\n",
    "            if isinstance(metrics, dict):\n",
    "                for metric, value in metrics.items():\n",
    "                    mlflow.log_metric(f\"{label}_{metric}\", value)\n",
    "\n",
    "        # Log the model\n",
    "        mlflow.sklearn.log_model(model, f\"{model_name}_model\")\n",
    "\n",
    "\n",
    "# Step 6: Optuna objective function for SVM\n",
    "def objective_svm(trial):\n",
    "    C = trial.suggest_float('C', 1e-4, 10.0, log=True)\n",
    "    kernel = trial.suggest_categorical('kernel', ['linear', 'rbf', 'poly'])\n",
    "\n",
    "    model = SVC(C=C, kernel=kernel, random_state=42)\n",
    "    return accuracy_score(y_test, model.fit(X_train, y_train).predict(X_test))\n",
    "\n",
    "\n",
    "# Step 7: Run Optuna for SVM, log the best model only\n",
    "def run_optuna_experiment():\n",
    "    study = optuna.create_study(direction=\"maximize\")\n",
    "    study.optimize(objective_svm, n_trials=30)\n",
    "\n",
    "    # Get the best parameters and log only the best model\n",
    "    best_params = study.best_params\n",
    "    best_model = SVC(C=best_params['C'], kernel=best_params['kernel'], random_state=42)\n",
    "\n",
    "    # Log the best model with MLflow, passing the algo_name as \"SVM\"\n",
    "    log_mlflow(\"SVM\", best_model, X_train, X_test, y_train, y_test)\n",
    "\n",
    "# Run the experiment for SVM\n",
    "run_optuna_experiment()\n"
   ]
  },
  {
   "cell_type": "code",
   "execution_count": null,
   "metadata": {},
   "outputs": [],
   "source": []
  }
 ],
 "metadata": {
  "kernelspec": {
   "display_name": "Python 3",
   "language": "python",
   "name": "python3"
  },
  "language_info": {
   "codemirror_mode": {
    "name": "ipython",
    "version": 3
   },
   "file_extension": ".py",
   "mimetype": "text/x-python",
   "name": "python",
   "nbconvert_exporter": "python",
   "pygments_lexer": "ipython3",
   "version": "3.9.13"
  }
 },
 "nbformat": 4,
 "nbformat_minor": 2
}
